{
 "cells": [
  {
   "cell_type": "code",
   "execution_count": 6,
   "id": "bcc32db6",
   "metadata": {},
   "outputs": [
    {
     "name": "stdout",
     "output_type": "stream",
     "text": [
      "1 3 5\n"
     ]
    },
    {
     "data": {
      "text/plain": [
       "35"
      ]
     },
     "execution_count": 6,
     "metadata": {},
     "output_type": "execute_result"
    }
   ],
   "source": [
    "#Challenge 1: Square Numbers and Return Their Sum\n",
    "class Point:\n",
    "\n",
    "    def __init__(self,x,y,z):\n",
    "        self.x = x\n",
    "        self.y = y\n",
    "        self.z = z\n",
    "\n",
    "    def sqSum(self):\n",
    "        sum1=self.x**2+self.y**2+self.z**2\n",
    "        return sum1\n",
    "x,y,z=map(int,input().split())\n",
    "p=Point(x,y,z)\n",
    "p.sqSum()"
   ]
  },
  {
   "cell_type": "code",
   "execution_count": 9,
   "id": "ec6052dc",
   "metadata": {},
   "outputs": [
    {
     "name": "stdout",
     "output_type": "stream",
     "text": [
      "104\n",
      "84\n",
      "940\n",
      "9.4\n"
     ]
    }
   ],
   "source": [
    "#Challenge 2: Implement a Calculator Class\n",
    "class Calculator:\n",
    "\n",
    "    def __init__(self,num1,num2):\n",
    "        self.num1=num1\n",
    "        self.num2=num2\n",
    "    def add(self):\n",
    "        add=self.num1+self.num2\n",
    "        print(add)\n",
    "    def subtract(self):\n",
    "        sub=self.num2-self.num1\n",
    "        print(sub)\n",
    "    def multiply(self):\n",
    "        mul=self.num1*self.num2\n",
    "        print(mul)\n",
    "    def divide(self):\n",
    "        div=self.num2/self.num1\n",
    "        print(div)\n",
    "obj = Calculator(10, 94)\n",
    "obj.add()\n",
    "obj.subtract()\n",
    "obj.multiply()\n",
    "obj.divide()"
   ]
  },
  {
   "cell_type": "code",
   "execution_count": 6,
   "id": "05f117eb",
   "metadata": {},
   "outputs": [
    {
     "name": "stdout",
     "output_type": "stream",
     "text": [
      "Name: Neha\n",
      "Roll Number: 12\n"
     ]
    }
   ],
   "source": [
    "#Challenge 3: Implement the Complete Student Class\n",
    "class Student:\n",
    "\n",
    "    def __init__(self):\n",
    "        self.__name = \"\"\n",
    "        self.__rollNumber=0\n",
    "\n",
    "    def setName(self, name):\n",
    "        self.__name = name\n",
    "    \n",
    "    def getName(self):\n",
    "        return self.__name\n",
    "    \n",
    "    def setRollNumber(self, rollNumber):\n",
    "        self.__rollNumber = rollNumber\n",
    "    \n",
    "    def getRollNumber(self):\n",
    "        return self.__rollNumber\n",
    "\n",
    "student = Student()\n",
    "\n",
    "student.setName(\"Neha\")\n",
    "student.setRollNumber(12)\n",
    "\n",
    "print(\"Name:\", student.getName())\n",
    "print(\"Roll Number:\", student.getRollNumber())\n"
   ]
  },
  {
   "cell_type": "code",
   "execution_count": 18,
   "id": "3915b027",
   "metadata": {},
   "outputs": [
    {
     "name": "stdout",
     "output_type": "stream",
     "text": [
      "Account title: Neha\n",
      "Account balance: 10000\n",
      "Savings account title: Neha\n",
      "Savings account balance: 20000\n",
      "Savings account interest Rate: 5\n"
     ]
    }
   ],
   "source": [
    "#Challenge 4: Implement a Banking Account\n",
    "class Account:\n",
    "\n",
    "    def __init__(self,title=None,Balance=0):\n",
    "        self.title=title\n",
    "        self.Balance=Balance\n",
    "\n",
    "class SavingsAccount(Account):\n",
    "\n",
    "    def __init__(self,title=None,Balance=0,interestRate=0):\n",
    "        super().__init__(title,Balance)\n",
    "        self.interestRate=interestRate\n",
    "    \n",
    "acc=Account(\"Neha\",10000)\n",
    "print(\"Account title:\",acc.title)\n",
    "print(\"Account balance:\",acc.Balance)\n",
    "\n",
    "S_acc=SavingsAccount(\"Neha\",20000, 5)    \n",
    "print(\"Savings account title:\",S_acc.title)\n",
    "print(\"Savings account balance:\",S_acc.Balance)\n",
    "print(\"Savings account interest Rate:\",S_acc.interestRate)"
   ]
  },
  {
   "cell_type": "code",
   "execution_count": 10,
   "id": "b0921b87",
   "metadata": {},
   "outputs": [],
   "source": [
    "class Account:\n",
    "    def __init__(self, title=None, balance=0):\n",
    "        self.title = title\n",
    "        self.balance = balance\n",
    "   \n",
    "    def withdrawal(self, amount):\n",
    "        if amount <= self.balance:\n",
    "            self.balance -= amount\n",
    "    \n",
    "    def deposit(self, amount):\n",
    "        self.balance+=amount\n",
    "\n",
    "    def getBalance(self):\n",
    "        return self.balance\n",
    "\n",
    "class SavingsAccount(Account):\n",
    "    def __init__(self, title=None, balance=0, interestRate=0):\n",
    "            super().__init__(title, balance)\n",
    "            self.interestRate = interestRate\n",
    "\n",
    "    def interestAmount(self):\n",
    "        result=(self.balance*self.interestRate)/100\n",
    "        return result\n",
    "\n",
    "#code to test - do not edit this\n",
    "\n",
    "demo1 = SavingsAccount(\"Ashish\", 2000, 5)   # initializing a SavingsAccount object\n"
   ]
  },
  {
   "cell_type": "code",
   "execution_count": 14,
   "id": "f0ee2443",
   "metadata": {},
   "outputs": [
    {
     "data": {
      "text/plain": [
       "2500"
      ]
     },
     "execution_count": 14,
     "metadata": {},
     "output_type": "execute_result"
    }
   ],
   "source": [
    "demo1.deposit(500)  \n",
    "demo1.getBalance()"
   ]
  },
  {
   "cell_type": "code",
   "execution_count": 12,
   "id": "77c6e215",
   "metadata": {},
   "outputs": [],
   "source": [
    "demo1.withdrawal(500)\n",
    "demo1.getBalance()"
   ]
  },
  {
   "cell_type": "code",
   "execution_count": 13,
   "id": "8d0d9beb",
   "metadata": {},
   "outputs": [
    {
     "data": {
      "text/plain": [
       "100.0"
      ]
     },
     "execution_count": 13,
     "metadata": {},
     "output_type": "execute_result"
    }
   ],
   "source": [
    "demo1.interestAmount()"
   ]
  },
  {
   "cell_type": "code",
   "execution_count": null,
   "id": "9541580a",
   "metadata": {},
   "outputs": [],
   "source": []
  }
 ],
 "metadata": {
  "kernelspec": {
   "display_name": "Python 3 (ipykernel)",
   "language": "python",
   "name": "python3"
  },
  "language_info": {
   "codemirror_mode": {
    "name": "ipython",
    "version": 3
   },
   "file_extension": ".py",
   "mimetype": "text/x-python",
   "name": "python",
   "nbconvert_exporter": "python",
   "pygments_lexer": "ipython3",
   "version": "3.10.9"
  }
 },
 "nbformat": 4,
 "nbformat_minor": 5
}
